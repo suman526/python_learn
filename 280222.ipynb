{
 "cells": [
  {
   "cell_type": "code",
   "execution_count": 17,
   "metadata": {},
   "outputs": [],
   "source": [
    "#three ways to call multilevel inheritance"
   ]
  },
  {
   "cell_type": "code",
   "execution_count": 7,
   "metadata": {},
   "outputs": [
    {
     "name": "stdout",
     "output_type": "stream",
     "text": [
      "child class\n"
     ]
    }
   ],
   "source": [
    "class g_parent:\n",
    "    def grand(self):\n",
    "        print(\"grand present class\")\n",
    "\n",
    "class p_class(g_parent):\n",
    "    def parent(self):\n",
    "        print(\" parent class\")\n",
    "        \n",
    "class c_class(p_class):\n",
    "    def child(self):\n",
    "        print(\"child class\")\n",
    "        \n",
    "c= c_class()\n",
    "c.child()"
   ]
  },
  {
   "cell_type": "code",
   "execution_count": 8,
   "metadata": {},
   "outputs": [
    {
     "ename": "AttributeError",
     "evalue": "'p_class' object has no attribute 'child'",
     "output_type": "error",
     "traceback": [
      "\u001b[1;31m---------------------------------------------------------------------------\u001b[0m",
      "\u001b[1;31mAttributeError\u001b[0m                            Traceback (most recent call last)",
      "\u001b[1;32m<ipython-input-8-b2a9e4e1a3ca>\u001b[0m in \u001b[0;36m<module>\u001b[1;34m\u001b[0m\n\u001b[0;32m     12\u001b[0m \u001b[1;33m\u001b[0m\u001b[0m\n\u001b[0;32m     13\u001b[0m \u001b[0mc\u001b[0m\u001b[1;33m=\u001b[0m \u001b[0mp_class\u001b[0m\u001b[1;33m(\u001b[0m\u001b[1;33m)\u001b[0m\u001b[1;33m\u001b[0m\u001b[1;33m\u001b[0m\u001b[0m\n\u001b[1;32m---> 14\u001b[1;33m \u001b[0mc\u001b[0m\u001b[1;33m.\u001b[0m\u001b[0mchild\u001b[0m\u001b[1;33m(\u001b[0m\u001b[1;33m)\u001b[0m\u001b[1;33m\u001b[0m\u001b[1;33m\u001b[0m\u001b[0m\n\u001b[0m",
      "\u001b[1;31mAttributeError\u001b[0m: 'p_class' object has no attribute 'child'"
     ]
    }
   ],
   "source": [
    "class g_parent:\n",
    "    def grand(self):\n",
    "        print(\"grand present class\")\n",
    "\n",
    "class p_class(g_parent):\n",
    "    def parent(self):\n",
    "        print(\" parent class\")\n",
    "        \n",
    "class c_class(p_class):\n",
    "    def child(self):\n",
    "        print(\"child class\")\n",
    "        \n",
    "c= p_class()\n",
    "c.child()"
   ]
  },
  {
   "cell_type": "code",
   "execution_count": 16,
   "metadata": {},
   "outputs": [
    {
     "name": "stdout",
     "output_type": "stream",
     "text": [
      "child class\n",
      "grand present class\n"
     ]
    }
   ],
   "source": [
    "class g_parent:\n",
    "    def grand(self):\n",
    "        print(\"grand present class\")\n",
    "\n",
    "class p_class(g_parent):\n",
    "    def parent(self):\n",
    "        print(\" parent class\")\n",
    "        \n",
    "class c_class(g_parent):\n",
    "    def child(self):\n",
    "        print(\"child class\")\n",
    "        \n",
    "c= c_class()\n",
    "c.child()\n",
    "p= p_class()\n",
    "p.grand()\n",
    "\n",
    "\n",
    "\n"
   ]
  },
  {
   "cell_type": "code",
   "execution_count": 26,
   "metadata": {},
   "outputs": [
    {
     "name": "stdout",
     "output_type": "stream",
     "text": [
      "1.6470588235294117\n"
     ]
    }
   ],
   "source": [
    "#with constructor:\n",
    "#wap and make a class of automobile and try to inherit \n",
    "#some common properties,with the help of constructor\n",
    "# and also try to get the name of the model \n",
    "#which is having best avg\n",
    "\n",
    "class car1:\n",
    "    def __init__(self, color,model,name,distance):\n",
    "        self.color = color \n",
    "        self.name=name\n",
    "        self.model=model\n",
    "        self.distance=distance\n",
    "class car2(car1):\n",
    "    def __init__(self, color,model,name,distance,engine):\n",
    "        super().__init__(color,model,name,distance)\n",
    "        self.engine=engine\n",
    "        \n",
    "class car3(car2):\n",
    "    def __init__(self,  color, model, name,distance,engine,fuel):\n",
    "        super().__init__(color,model,name,distance,engine)\n",
    "        self.fuel = fuel\n",
    "        \n",
    "    def cal_ave(self):\n",
    "        milage=self.distance/self.fuel\n",
    "        print(milage)\n",
    "\n",
    "car=car3(\"red\",\"honda\",\"black\",56,\"turbo\",34)\n",
    "car.cal_ave()\n",
    "\n"
   ]
  },
  {
   "cell_type": "code",
   "execution_count": null,
   "metadata": {},
   "outputs": [],
   "source": []
  }
 ],
 "metadata": {
  "kernelspec": {
   "display_name": "Python 3",
   "language": "python",
   "name": "python3"
  },
  "language_info": {
   "codemirror_mode": {
    "name": "ipython",
    "version": 3
   },
   "file_extension": ".py",
   "mimetype": "text/x-python",
   "name": "python",
   "nbconvert_exporter": "python",
   "pygments_lexer": "ipython3",
   "version": "3.8.3"
  }
 },
 "nbformat": 4,
 "nbformat_minor": 4
}
