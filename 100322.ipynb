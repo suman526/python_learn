{
 "cells": [
  {
   "cell_type": "code",
   "execution_count": 5,
   "metadata": {},
   "outputs": [
    {
     "data": {
      "text/plain": [
       "113"
      ]
     },
     "execution_count": 5,
     "metadata": {},
     "output_type": "execute_result"
    }
   ],
   "source": [
    "a = [3,5,7,8,90] # reduce used when we need one ouput from a function\n",
    "from functools import reduce\n",
    "reduce(lambda x,y:x+y, a)"
   ]
  },
  {
   "cell_type": "code",
   "execution_count": 8,
   "metadata": {},
   "outputs": [
    {
     "data": {
      "text/plain": [
       "113"
      ]
     },
     "execution_count": 8,
     "metadata": {},
     "output_type": "execute_result"
    }
   ],
   "source": [
    "def func(a):\n",
    "    add=0\n",
    "    for i in a:\n",
    "        add=add+i\n",
    "    return add\n",
    "a = [3,5,7,8,90]\n",
    "func(a)"
   ]
  },
  {
   "cell_type": "code",
   "execution_count": 10,
   "metadata": {},
   "outputs": [
    {
     "data": {
      "text/plain": [
       "113"
      ]
     },
     "execution_count": 10,
     "metadata": {},
     "output_type": "execute_result"
    }
   ],
   "source": [
    "a = [3,5,7,8,90]\n",
    "def add(x,y):\n",
    "    ans= x + y\n",
    "    return ans\n",
    "reduce(add ,a)"
   ]
  },
  {
   "cell_type": "markdown",
   "metadata": {},
   "source": [
    "# QUESTIONS---->"
   ]
  },
  {
   "cell_type": "code",
   "execution_count": 16,
   "metadata": {},
   "outputs": [
    {
     "data": {
      "text/plain": [
       "17"
      ]
     },
     "execution_count": 16,
     "metadata": {},
     "output_type": "execute_result"
    }
   ],
   "source": [
    "#1\n",
    "r=lambda x:x+15\n",
    "r(2)"
   ]
  },
  {
   "cell_type": "code",
   "execution_count": 17,
   "metadata": {},
   "outputs": [
    {
     "data": {
      "text/plain": [
       "6"
      ]
     },
     "execution_count": 17,
     "metadata": {},
     "output_type": "execute_result"
    }
   ],
   "source": [
    "r=lambda x,y:x*y\n",
    "r(2,3)\n"
   ]
  },
  {
   "cell_type": "code",
   "execution_count": 20,
   "metadata": {},
   "outputs": [
    {
     "data": {
      "text/plain": [
       "75"
      ]
     },
     "execution_count": 20,
     "metadata": {},
     "output_type": "execute_result"
    }
   ],
   "source": [
    "#2\n",
    "r=lambda x:15*x\n",
    "r(5)\n",
    "    "
   ]
  },
  {
   "cell_type": "code",
   "execution_count": 25,
   "metadata": {},
   "outputs": [
    {
     "name": "stdout",
     "output_type": "stream",
     "text": [
      "even nnumber --> [2, 4, 6, 8, 10]\n",
      "odd number --> [1, 3, 5, 7, 9]\n"
     ]
    }
   ],
   "source": [
    "#3\n",
    "o=[1, 2, 3, 4, 5, 6, 7, 8, 9, 10]\n",
    "r=list(filter(lambda x:x%2==0,o))\n",
    "p=list(filter(lambda x:x%2,o))\n",
    "print(\"even nnumber -->\",r)\n",
    "print(\"odd number -->\",p)"
   ]
  },
  {
   "cell_type": "code",
   "execution_count": 31,
   "metadata": {},
   "outputs": [
    {
     "data": {
      "text/plain": [
       "True"
      ]
     },
     "execution_count": 31,
     "metadata": {},
     "output_type": "execute_result"
    }
   ],
   "source": [
    "#4\n",
    "z=lambda x:x.isdigit()\n",
    "z(\"123\")"
   ]
  },
  {
   "cell_type": "code",
   "execution_count": 28,
   "metadata": {},
   "outputs": [
    {
     "name": "stdout",
     "output_type": "stream",
     "text": [
      "[2, 4, 6, 8, 10] --> 5\n",
      "[1, 3, 5, 7, 9] --> 5\n"
     ]
    }
   ],
   "source": [
    "#5-->1st method\n",
    "l=[1, 2, 3, 4, 5, 6, 7, 8, 9, 10]\n",
    "r=list(filter(lambda x:x%2==0,o))\n",
    "print(r,\"-->\",len(r))    \n",
    "p=list(filter(lambda x:x%2,o))\n",
    "print(p,\"-->\",len(p))"
   ]
  },
  {
   "cell_type": "code",
   "execution_count": 45,
   "metadata": {},
   "outputs": [
    {
     "name": "stdout",
     "output_type": "stream",
     "text": [
      "[2, 4, 6, 8, 10] --> 5\n",
      "[1, 3, 5, 7, 9] --> 5\n"
     ]
    }
   ],
   "source": [
    "#2nd Method\n",
    "l=[1, 2, 3, 4, 5, 6, 7, 8, 9, 10]\n",
    "r=list(filter(lambda x:x%2==0,o))\n",
    "for i in range(len(r)):\n",
    "    i=i+1\n",
    "print(r,\"-->\",i)\n",
    "p=list(filter(lambda x:x%2,o))\n",
    "for i in range(len(p)):\n",
    "    i=i+1\n",
    "print(p,\"-->\",i)\n"
   ]
  },
  {
   "cell_type": "code",
   "execution_count": 32,
   "metadata": {},
   "outputs": [
    {
     "name": "stdout",
     "output_type": "stream",
     "text": [
      "[5, 7, 9]\n"
     ]
    }
   ],
   "source": [
    "#6\n",
    "l1=[1,2,3]\n",
    "l2=[4,5,6]\n",
    "print(list(map(lambda a,b:a+b,l1,l2)))"
   ]
  },
  {
   "cell_type": "code",
   "execution_count": 34,
   "metadata": {},
   "outputs": [
    {
     "data": {
      "text/plain": [
       "[19, 65, 57, 39, 152, 190]"
      ]
     },
     "execution_count": 34,
     "metadata": {},
     "output_type": "execute_result"
    }
   ],
   "source": [
    "data=[19, 65, 57, 39, 152, 639, 121, 44, 90, 190]\n",
    "list(filter(lambda x:x%19==0 or x%13==0,data))"
   ]
  },
  {
   "cell_type": "code",
   "execution_count": 36,
   "metadata": {},
   "outputs": [
    {
     "name": "stdout",
     "output_type": "stream",
     "text": [
      "[4, 8, 12, 18, 22]\n"
     ]
    }
   ],
   "source": [
    "Original_list=[2, 4, 6, 9, 11]\n",
    "Given_number=2\n",
    "print(list(map(lambda a:a*Given_number,Original_list)))"
   ]
  },
  {
   "cell_type": "code",
   "execution_count": null,
   "metadata": {},
   "outputs": [],
   "source": []
  }
 ],
 "metadata": {
  "kernelspec": {
   "display_name": "Python 3",
   "language": "python",
   "name": "python3"
  },
  "language_info": {
   "codemirror_mode": {
    "name": "ipython",
    "version": 3
   },
   "file_extension": ".py",
   "mimetype": "text/x-python",
   "name": "python",
   "nbconvert_exporter": "python",
   "pygments_lexer": "ipython3",
   "version": "3.8.3"
  }
 },
 "nbformat": 4,
 "nbformat_minor": 4
}
