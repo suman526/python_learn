{
 "cells": [
  {
   "cell_type": "code",
   "execution_count": 4,
   "metadata": {},
   "outputs": [
    {
     "name": "stdout",
     "output_type": "stream",
     "text": [
      "Enter the year of service 5\n",
      "Enter the salary 5000\n",
      "250.0\n"
     ]
    }
   ],
   "source": [
    "year= int(input(\"Enter the year of service \"))\n",
    "salary= int(input(\"Enter the salary \"))\n",
    "if year>=5:\n",
    "    bonus=(5/100)*salary\n",
    "    print(bonus)\n",
    "else:\n",
    "    print(\"you are not eligible for bonus\")"
   ]
  },
  {
   "cell_type": "code",
   "execution_count": 6,
   "metadata": {},
   "outputs": [
    {
     "name": "stdout",
     "output_type": "stream",
     "text": [
      "Enter the number of quantity:  11\n",
      "990.0\n"
     ]
    }
   ],
   "source": [
    "qty= int(input(\"Enter the number of quantity:  \"))\n",
    "total_cost= qty*100\n",
    "if total_cost>1000:\n",
    "    discount= (10/100)*total_cost\n",
    "    cost_for_user= total_cost-discount\n",
    "    print(cost_for_user)\n",
    "else: \n",
    "    print(\"NA\")"
   ]
  },
  {
   "cell_type": "code",
   "execution_count": null,
   "metadata": {},
   "outputs": [],
   "source": []
  }
 ],
 "metadata": {
  "kernelspec": {
   "display_name": "Python 3",
   "language": "python",
   "name": "python3"
  },
  "language_info": {
   "codemirror_mode": {
    "name": "ipython",
    "version": 3
   },
   "file_extension": ".py",
   "mimetype": "text/x-python",
   "name": "python",
   "nbconvert_exporter": "python",
   "pygments_lexer": "ipython3",
   "version": "3.8.3"
  }
 },
 "nbformat": 4,
 "nbformat_minor": 4
}
