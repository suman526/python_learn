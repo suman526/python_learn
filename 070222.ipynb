{
 "cells": [
  {
   "cell_type": "code",
   "execution_count": 1,
   "metadata": {},
   "outputs": [
    {
     "data": {
      "text/plain": [
       "14"
      ]
     },
     "execution_count": 1,
     "metadata": {},
     "output_type": "execute_result"
    }
   ],
   "source": [
    "#with return no argument \n",
    "def add():\n",
    "    a=6\n",
    "    b=8\n",
    "    return a+b\n",
    "add()"
   ]
  },
  {
   "cell_type": "code",
   "execution_count": 3,
   "metadata": {},
   "outputs": [
    {
     "name": "stdout",
     "output_type": "stream",
     "text": [
      "14\n"
     ]
    }
   ],
   "source": [
    "#with no return no argument \n",
    "def add():\n",
    "    a=6\n",
    "    b=8\n",
    "    c=a+b\n",
    "    print(a+b)\n",
    "add()"
   ]
  },
  {
   "cell_type": "code",
   "execution_count": 6,
   "metadata": {},
   "outputs": [
    {
     "name": "stdout",
     "output_type": "stream",
     "text": [
      "17\n"
     ]
    }
   ],
   "source": [
    "#with no return but argument \n",
    "def add(a,b):\n",
    "    c= a+b\n",
    "    print(c)\n",
    "add(9,8)"
   ]
  },
  {
   "cell_type": "code",
   "execution_count": 7,
   "metadata": {},
   "outputs": [
    {
     "data": {
      "text/plain": [
       "10"
      ]
     },
     "execution_count": 7,
     "metadata": {},
     "output_type": "execute_result"
    }
   ],
   "source": [
    "#with return no argument \n",
    "def add(a,b):\n",
    "    return a+b\n",
    "add(2,8)"
   ]
  },
  {
   "cell_type": "code",
   "execution_count": 10,
   "metadata": {},
   "outputs": [
    {
     "name": "stdout",
     "output_type": "stream",
     "text": [
      "b is max\n"
     ]
    }
   ],
   "source": [
    "#find max using function\n",
    "def max_number(a,b,c):\n",
    "    if a==b==c:\n",
    "        print(\"same number\")\n",
    "    elif a>b and a>c:\n",
    "        print(\"a is max\")\n",
    "    elif b>a and b>c:\n",
    "        print(\"b is max\")\n",
    "    else:\n",
    "        print(\"c  is max\")\n",
    "max_number(2,8,5)"
   ]
  },
  {
   "cell_type": "code",
   "execution_count": 11,
   "metadata": {},
   "outputs": [
    {
     "name": "stdout",
     "output_type": "stream",
     "text": [
      "a is min\n"
     ]
    }
   ],
   "source": [
    "#find min using function\n",
    "def max_number(a,b,c):\n",
    "    if a==b==c:\n",
    "        print(\"same number\")\n",
    "    elif a<b and a<c:\n",
    "        print(\"a is min\")\n",
    "    elif b<a and b<c:\n",
    "        print(\"b is min\")\n",
    "    else:\n",
    "        print(\"c  is min\")\n",
    "max_number(2,8,5)"
   ]
  },
  {
   "cell_type": "code",
   "execution_count": 44,
   "metadata": {},
   "outputs": [
    {
     "name": "stdout",
     "output_type": "stream",
     "text": [
      "15\n"
     ]
    }
   ],
   "source": [
    "#sum of all number present in the list\n",
    "\n",
    "def sum_list(a):\n",
    "    s=0\n",
    "    for i in range(len(a)): \n",
    "        s=s+a[i]\n",
    "    print(s)\n",
    "a=[1,2,3,4,5]\n",
    "sum_list(a)\n",
    "    "
   ]
  },
  {
   "cell_type": "code",
   "execution_count": 20,
   "metadata": {},
   "outputs": [
    {
     "data": {
      "text/plain": [
       "False"
      ]
     },
     "execution_count": 20,
     "metadata": {},
     "output_type": "execute_result"
    }
   ],
   "source": [
    "def odd(o):\n",
    "    if o%2==0:\n",
    "        return False\n",
    "    else:\n",
    "        return True\n",
    "odd(8)"
   ]
  },
  {
   "cell_type": "code",
   "execution_count": 23,
   "metadata": {},
   "outputs": [
    {
     "name": "stdout",
     "output_type": "stream",
     "text": [
      "odd\n"
     ]
    }
   ],
   "source": [
    "def even(o):\n",
    "    if o%2==0:\n",
    "        print(\"even\")\n",
    "    else:\n",
    "        print(\"odd\")\n",
    "even(9)"
   ]
  },
  {
   "cell_type": "code",
   "execution_count": 31,
   "metadata": {},
   "outputs": [
    {
     "name": "stdout",
     "output_type": "stream",
     "text": [
      "s\n",
      "us\n",
      "mus\n",
      "amus\n",
      "namus\n"
     ]
    }
   ],
   "source": [
    "#s=\"suman\"\n",
    "def string_rev(s):\n",
    "    rev=\"\"\n",
    "    for i in s:\n",
    "        rev=i+rev\n",
    "        print(rev)\n",
    "string_rev(\"suman\")"
   ]
  },
  {
   "cell_type": "code",
   "execution_count": 32,
   "metadata": {},
   "outputs": [
    {
     "name": "stdout",
     "output_type": "stream",
     "text": [
      "not palindrone\n"
     ]
    }
   ],
   "source": [
    "def palin(s):\n",
    "    rev=\"\"\n",
    "    for i in s:\n",
    "        rev=i+rev\n",
    "    if s==rev:\n",
    "        print(\"palindrone\")\n",
    "    else:\n",
    "        print(\"not palindrone\")\n",
    "palin(\"suman\")"
   ]
  },
  {
   "cell_type": "code",
   "execution_count": 52,
   "metadata": {},
   "outputs": [
    {
     "name": "stdout",
     "output_type": "stream",
     "text": [
      "sum is--  55\n"
     ]
    }
   ],
   "source": [
    "def sum_natural(l):\n",
    "    s=0\n",
    "    for i in range(len(l)):\n",
    "        s=s+l[i]\n",
    "    print(\"sum is-- \",s)\n",
    "\n",
    "l=[1,2,3,4,5,6,7,8,9,10]\n",
    "sum_natural(l)"
   ]
  },
  {
   "cell_type": "code",
   "execution_count": null,
   "metadata": {},
   "outputs": [],
   "source": []
  }
 ],
 "metadata": {
  "kernelspec": {
   "display_name": "Python 3",
   "language": "python",
   "name": "python3"
  },
  "language_info": {
   "codemirror_mode": {
    "name": "ipython",
    "version": 3
   },
   "file_extension": ".py",
   "mimetype": "text/x-python",
   "name": "python",
   "nbconvert_exporter": "python",
   "pygments_lexer": "ipython3",
   "version": "3.8.3"
  }
 },
 "nbformat": 4,
 "nbformat_minor": 4
}
