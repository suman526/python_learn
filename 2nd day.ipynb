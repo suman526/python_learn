{
 "cells": [
  {
   "cell_type": "code",
   "execution_count": 2,
   "metadata": {
    "scrolled": true
   },
   "outputs": [
    {
     "name": "stdout",
     "output_type": "stream",
     "text": [
      "enter 1st number5.8\n"
     ]
    },
    {
     "ename": "ValueError",
     "evalue": "invalid literal for int() with base 10: '5.8'",
     "output_type": "error",
     "traceback": [
      "\u001b[1;31m---------------------------------------------------------------------------\u001b[0m",
      "\u001b[1;31mValueError\u001b[0m                                Traceback (most recent call last)",
      "\u001b[1;32m<ipython-input-2-97b9cad17f4c>\u001b[0m in \u001b[0;36m<module>\u001b[1;34m\u001b[0m\n\u001b[1;32m----> 1\u001b[1;33m \u001b[0ma\u001b[0m\u001b[1;33m=\u001b[0m \u001b[0mint\u001b[0m\u001b[1;33m(\u001b[0m\u001b[0minput\u001b[0m\u001b[1;33m(\u001b[0m\u001b[1;34m\"enter 1st number\"\u001b[0m\u001b[1;33m)\u001b[0m\u001b[1;33m)\u001b[0m\u001b[1;33m\u001b[0m\u001b[1;33m\u001b[0m\u001b[0m\n\u001b[0m\u001b[0;32m      2\u001b[0m \u001b[0mb\u001b[0m \u001b[1;33m=\u001b[0m \u001b[0mfloat\u001b[0m\u001b[1;33m(\u001b[0m\u001b[0minput\u001b[0m\u001b[1;33m(\u001b[0m\u001b[1;34m\"enter 2nd number\"\u001b[0m\u001b[1;33m)\u001b[0m\u001b[1;33m)\u001b[0m\u001b[1;33m\u001b[0m\u001b[1;33m\u001b[0m\u001b[0m\n\u001b[0;32m      3\u001b[0m \u001b[0mc\u001b[0m\u001b[1;33m=\u001b[0m \u001b[0ma\u001b[0m\u001b[1;33m+\u001b[0m\u001b[0mb\u001b[0m\u001b[1;33m\u001b[0m\u001b[1;33m\u001b[0m\u001b[0m\n\u001b[0;32m      4\u001b[0m \u001b[0mprint\u001b[0m\u001b[1;33m(\u001b[0m\u001b[0mc\u001b[0m\u001b[1;33m)\u001b[0m\u001b[1;33m\u001b[0m\u001b[1;33m\u001b[0m\u001b[0m\n",
      "\u001b[1;31mValueError\u001b[0m: invalid literal for int() with base 10: '5.8'"
     ]
    }
   ],
   "source": [
    "a= int(input(\"enter 1st number\"))\n",
    "b = float(input(\"enter 2nd number\"))\n",
    "c= a+b\n",
    "print(c)"
   ]
  },
  {
   "cell_type": "code",
   "execution_count": 6,
   "metadata": {},
   "outputs": [
    {
     "name": "stdout",
     "output_type": "stream",
     "text": [
      "enter your age67\n",
      "you can vote\n"
     ]
    }
   ],
   "source": [
    "age= int(input(\"enter your age\"))\n",
    "if age==18:\n",
    "    print(\"first time vote\")\n",
    "elif age>18:\n",
    "    print(\"you can vote\")\n",
    "else:\n",
    "    print(\"you can't vote\")"
   ]
  },
  {
   "cell_type": "code",
   "execution_count": 16,
   "metadata": {},
   "outputs": [
    {
     "name": "stdout",
     "output_type": "stream",
     "text": [
      "enter your age7\n",
      "enter your age7\n",
      "enter your age9\n",
      "p3  is older\n",
      "p3  is younger\n"
     ]
    }
   ],
   "source": [
    "p1= int(input(\"enter your age\"))\n",
    "p2= int(input(\"enter your age\"))\n",
    "p3= int(input(\"enter your age\"))\n",
    "if p1==p2==p3:\n",
    "    print(\"same age\")\n",
    "elif p1>p2 and p1>p3:\n",
    "    print(\"p1 is older\")\n",
    "elif p2>p1 and p2>p3:\n",
    "    print(\"p2 is older\")\n",
    "else:\n",
    "    print(\"p3  is older\")\n",
    "\n",
    "if p1<p2 and p1<p3:\n",
    "    print(\"p1 is younger\")\n",
    "elif p2<p1 and p2<p3:\n",
    "    print(\"p2  is younger\")\n",
    "else:\n",
    "    print(\"p3  is younger\")"
   ]
  },
  {
   "cell_type": "code",
   "execution_count": 4,
   "metadata": {},
   "outputs": [
    {
     "name": "stdout",
     "output_type": "stream",
     "text": [
      "enter no. of classes held: 78\n",
      "enter no. of classes attended: 6\n",
      "percentage 7.6923076923076925 %\n",
      "Oops......not allowed to sit in exam\n"
     ]
    }
   ],
   "source": [
    "p1= int(input(\"enter no. of classes held: \"))\n",
    "p2= int(input(\"enter no. of classes attended: \"))\n",
    "per= (p2/p1)*100\n",
    "print(\"percentage\",per,\"%\")\n",
    "if per<75:\n",
    "    print(\"Oops......not allowed to sit in exam\")\n",
    "else:\n",
    "    print(\"allowed to sit in exam\")"
   ]
  },
  {
   "cell_type": "code",
   "execution_count": null,
   "metadata": {},
   "outputs": [],
   "source": []
  }
 ],
 "metadata": {
  "kernelspec": {
   "display_name": "Python 3",
   "language": "python",
   "name": "python3"
  },
  "language_info": {
   "codemirror_mode": {
    "name": "ipython",
    "version": 3
   },
   "file_extension": ".py",
   "mimetype": "text/x-python",
   "name": "python",
   "nbconvert_exporter": "python",
   "pygments_lexer": "ipython3",
   "version": "3.8.3"
  }
 },
 "nbformat": 4,
 "nbformat_minor": 4
}
