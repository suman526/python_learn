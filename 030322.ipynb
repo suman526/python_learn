{
 "cells": [
  {
   "cell_type": "code",
   "execution_count": 24,
   "metadata": {},
   "outputs": [
    {
     "data": {
      "text/plain": [
       "2.0"
      ]
     },
     "execution_count": 24,
     "metadata": {},
     "output_type": "execute_result"
    }
   ],
   "source": [
    "class school:\n",
    "        pass\n",
    "class student1(school):\n",
    "    def marks1(self,marks1,marks2,marks3):\n",
    "        #print(\"student marks-->\",marks1,marks2,marks3)\n",
    "        student1.marks1=marks1\n",
    "        student1.marks2=marks2\n",
    "        student1.marks3=marks3\n",
    "class student2(student1):\n",
    "    def average(self):\n",
    "        ave=(student1.marks1+student1.marks2+student1.marks3)/3\n",
    "        return ave\n",
    "r=student2()\n",
    "#s.marks1(1,2,3)\n",
    "r.marks1(1,2,3)\n",
    "r.average()"
   ]
  },
  {
   "cell_type": "code",
   "execution_count": 9,
   "metadata": {},
   "outputs": [
    {
     "data": {
      "text/plain": [
       "90"
      ]
     },
     "execution_count": 9,
     "metadata": {},
     "output_type": "execute_result"
    }
   ],
   "source": [
    "#2.\n",
    "class stud:\n",
    "    name=\"abc\"\n",
    "    a=90\n",
    "    b=78\n",
    "    c=a+b\n",
    "\n",
    "s=stud()\n",
    "s.a\n"
   ]
  },
  {
   "cell_type": "code",
   "execution_count": 27,
   "metadata": {},
   "outputs": [
    {
     "data": {
      "text/plain": [
       "5.0"
      ]
     },
     "execution_count": 27,
     "metadata": {},
     "output_type": "execute_result"
    }
   ],
   "source": [
    "class school:\n",
    "        pass\n",
    "class student1(school):\n",
    "    def marks(self,marks1,marks2,marks3):\n",
    "        self.marks1=marks1\n",
    "        self.marks2=marks2\n",
    "        self.marks3=marks3\n",
    "class student2(student1):\n",
    "    def average(self):\n",
    "        ave=(self.marks1+self.marks2+self.marks3)/3\n",
    "        return ave\n",
    "r=student2()\n",
    "r.marks(10,2,3)\n",
    "r.average()"
   ]
  },
  {
   "cell_type": "markdown",
   "metadata": {},
   "source": [
    "<pre>POLYMORPHISM\n",
    ":Same work with different work\n",
    "\n",
    "overloading:\n",
    "1. operator overloading\n",
    "same operator but diff. function\n",
    "one add and one concatenate \n",
    "for eg.--> \n",
    "i>\n",
    "class add:\n",
    "    a=1\n",
    "    b=3\n",
    "    result=a+b\n",
    "a=add()\n",
    "a.result\n",
    "ii>\n",
    "class add:\n",
    "    a=\"butter\"\n",
    "    b=\"fly\"\n",
    "    result=a+b\n",
    "a=add()\n",
    "a.result\n",
    "\n",
    "2. method overloading\n",
    "def hello(a,b=9)\n",
    "    print(a,b)\n",
    "hello(1,2)\n",
    "hello(2,3)\n",
    "hello(100)\n",
    "\n",
    "class hi:\n",
    "    def hello(,self,a,b=9)\n",
    "        print(a,b)\n",
    "x=hi()\n",
    "x.hello(1,2)\n",
    "x.hello(2,3)\n",
    "x.hello(100)\n",
    "</pre>\n"
   ]
  },
  {
   "cell_type": "markdown",
   "metadata": {},
   "source": [
    "<pre>Overriding doesn't support in python\n",
    "for using overriding in python: we require same function with same number of argument</pre>"
   ]
  },
  {
   "cell_type": "code",
   "execution_count": 28,
   "metadata": {},
   "outputs": [
    {
     "name": "stdout",
     "output_type": "stream",
     "text": [
      "car\n"
     ]
    }
   ],
   "source": [
    "class x:\n",
    "    def car(self):#-------------1\n",
    "        print(\"bike\")\n",
    "class y(x):\n",
    "    def car(self):#-------------2\n",
    "        print(\"car\")\n",
    "o=y()\n",
    "o.car()\n",
    "#1 and 2 are overriding as 2 is overriding 1 \n",
    "#\n"
   ]
  },
  {
   "cell_type": "code",
   "execution_count": 36,
   "metadata": {},
   "outputs": [
    {
     "name": "stdout",
     "output_type": "stream",
     "text": [
      "addition--> 5\n",
      "multiply--> 6\n"
     ]
    }
   ],
   "source": [
    "#wap and try to make same functioon and try to perform \n",
    "# add in the first function and multiply in the second function\n",
    "# \n",
    "\n",
    "\n",
    "class addition:\n",
    "    def add(self,a,b):\n",
    "        self.a=a\n",
    "        self.b=b\n",
    "        c=self.a+self.b\n",
    "        print(\"addition-->\",c)\n",
    "class multiply(addition):\n",
    "    def mlpy(self):\n",
    "        m=self.a*self.b\n",
    "        print(\"multiply-->\",m)\n",
    "z=multiply()\n",
    "z.add(2,3)\n",
    "z.mlpy()\n"
   ]
  },
  {
   "cell_type": "code",
   "execution_count": 37,
   "metadata": {},
   "outputs": [
    {
     "name": "stdout",
     "output_type": "stream",
     "text": [
      "addition--> 5\n",
      "multiply--> 6\n"
     ]
    }
   ],
   "source": [
    "class addition:\n",
    "    def add(self,a,b):\n",
    "        self.a=a\n",
    "        self.b=b\n",
    "        c=a+b\n",
    "        print(\"addition-->\",c)\n",
    "class multiply(addition):\n",
    "    def mlpy(self):\n",
    "        m=self.a*self.b\n",
    "        print(\"multiply-->\",m)\n",
    "z=multiply()\n",
    "z.add(2,3)\n",
    "z.mlpy()\n"
   ]
  },
  {
   "cell_type": "code",
   "execution_count": null,
   "metadata": {},
   "outputs": [],
   "source": []
  }
 ],
 "metadata": {
  "kernelspec": {
   "display_name": "Python 3",
   "language": "python",
   "name": "python3"
  },
  "language_info": {
   "codemirror_mode": {
    "name": "ipython",
    "version": 3
   },
   "file_extension": ".py",
   "mimetype": "text/x-python",
   "name": "python",
   "nbconvert_exporter": "python",
   "pygments_lexer": "ipython3",
   "version": "3.8.3"
  }
 },
 "nbformat": 4,
 "nbformat_minor": 4
}
