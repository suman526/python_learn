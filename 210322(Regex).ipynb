{
 "cells": [
  {
   "cell_type": "code",
   "execution_count": 2,
   "metadata": {},
   "outputs": [],
   "source": [
    "# importing re\n",
    "import re"
   ]
  },
  {
   "cell_type": "code",
   "execution_count": 13,
   "metadata": {},
   "outputs": [
    {
     "data": {
      "text/plain": [
       "['I', 'I']"
      ]
     },
     "execution_count": 13,
     "metadata": {},
     "output_type": "execute_result"
    }
   ],
   "source": [
    "a = \"I am a student and I know it\"\n",
    "#findall\n",
    "re.findall(\"I\",a)"
   ]
  },
  {
   "cell_type": "code",
   "execution_count": 14,
   "metadata": {},
   "outputs": [
    {
     "data": {
      "text/plain": [
       "<re.Match object; span=(7, 14), match='student'>"
      ]
     },
     "execution_count": 14,
     "metadata": {},
     "output_type": "execute_result"
    }
   ],
   "source": [
    "#search\n",
    "re.search(\"student\",a)"
   ]
  },
  {
   "cell_type": "code",
   "execution_count": 16,
   "metadata": {},
   "outputs": [
    {
     "name": "stdout",
     "output_type": "stream",
     "text": [
      "None\n"
     ]
    }
   ],
   "source": [
    "print(re.search(\"lion\",a))"
   ]
  },
  {
   "cell_type": "code",
   "execution_count": 17,
   "metadata": {},
   "outputs": [
    {
     "data": {
      "text/plain": [
       "'suman@yahoo.com'"
      ]
     },
     "execution_count": 17,
     "metadata": {},
     "output_type": "execute_result"
    }
   ],
   "source": [
    "b=\"suman@gmail.com\"\n",
    "#sub\n",
    "re.sub(\"gmail\",\"yahoo\",b)\n",
    "#yahoo will run only when gmail will be found"
   ]
  },
  {
   "cell_type": "code",
   "execution_count": 19,
   "metadata": {},
   "outputs": [
    {
     "data": {
      "text/plain": [
       "'I am a boy and i KNOW IT'"
      ]
     },
     "execution_count": 19,
     "metadata": {},
     "output_type": "execute_result"
    }
   ],
   "source": [
    "s=\"I am a boy and i KNOW IT\"\n",
    "re.sub(\"LION\",\"BOY\",s)\n",
    "#if the string will not be found still the code\n",
    "# will run"
   ]
  },
  {
   "cell_type": "code",
   "execution_count": 31,
   "metadata": {},
   "outputs": [],
   "source": [
    "#split\n",
    "x=\"sumanyadav@gmail.com\"\n",
    "#x.split()"
   ]
  },
  {
   "cell_type": "code",
   "execution_count": 28,
   "metadata": {},
   "outputs": [
    {
     "data": {
      "text/plain": [
       "['suman@', '@gmail.com']"
      ]
     },
     "execution_count": 28,
     "metadata": {},
     "output_type": "execute_result"
    }
   ],
   "source": [
    "re.split(\"yadav\",x)"
   ]
  },
  {
   "cell_type": "code",
   "execution_count": 35,
   "metadata": {},
   "outputs": [
    {
     "name": "stdout",
     "output_type": "stream",
     "text": [
      "start--> 5 end--> 6\n",
      "start--> 11 end--> 12\n"
     ]
    }
   ],
   "source": [
    "#finditer\n",
    "x=\"suman@yadav@gmail.com\"\n",
    "pattern=\"@\"\n",
    "for match in re.finditer(pattern,x):\n",
    "    a=match.start()\n",
    "    b=match.end()\n",
    "    print(\"start-->\",a,\"end-->\",b)"
   ]
  },
  {
   "cell_type": "code",
   "execution_count": 51,
   "metadata": {},
   "outputs": [
    {
     "name": "stdout",
     "output_type": "stream",
     "text": [
      "valid email\n"
     ]
    }
   ],
   "source": [
    "#wap to find the email is valid or not\n",
    "email=\"abc@123.com\"\n",
    "pattern1=\"@\"\n",
    "pattern2=\".\"\n",
    "res1=re.search(pattern1,email)\n",
    "res2=re.search(pattern2,email)\n",
    "if res1==None and res2==None:\n",
    "    print(\"invalid email\")\n",
    "else:\n",
    "    print(\"valid email\")"
   ]
  },
  {
   "cell_type": "code",
   "execution_count": 52,
   "metadata": {},
   "outputs": [
    {
     "name": "stdout",
     "output_type": "stream",
     "text": [
      "8\n"
     ]
    }
   ],
   "source": [
    "#1\n",
    "d=\"I am a boy who owns a laptop and also having a phone\"\n",
    "r=re.findall(\"a\",d)\n",
    "print(len(r))"
   ]
  },
  {
   "cell_type": "code",
   "execution_count": 48,
   "metadata": {},
   "outputs": [
    {
     "data": {
      "text/plain": [
       "'I am having a computer which is a smart computer'"
      ]
     },
     "execution_count": 48,
     "metadata": {},
     "output_type": "execute_result"
    }
   ],
   "source": [
    "#3\n",
    "w=\"I am having a tv which is a smart tv\"\n",
    "re.sub(\"tv\",\"computer\",w)"
   ]
  },
  {
   "cell_type": "code",
   "execution_count": 49,
   "metadata": {},
   "outputs": [
    {
     "name": "stdout",
     "output_type": "stream",
     "text": [
      "start--> 16 end--> 23\n"
     ]
    }
   ],
   "source": [
    "#4\n",
    "x=\"I am known with unknown personality\"\n",
    "pattern=\"unknown\"\n",
    "for match in re.finditer(pattern,x):\n",
    "    a=match.start()\n",
    "    b=match.end()\n",
    "    print(\"start-->\",a,\"end-->\",b)"
   ]
  },
  {
   "cell_type": "code",
   "execution_count": 19,
   "metadata": {},
   "outputs": [
    {
     "name": "stdout",
     "output_type": "stream",
     "text": [
      "Ram is a boy and sita is a girl\n"
     ]
    }
   ],
   "source": [
    "s=\"Ram is a student and sita is a student\"\n",
    "pattern=\"student\"\n",
    "f=re.sub(pattern,\"boy\",s,count=1)\n",
    "print(re.sub(pattern,\"girl\",f))\n"
   ]
  },
  {
   "cell_type": "code",
   "execution_count": null,
   "metadata": {},
   "outputs": [],
   "source": []
  }
 ],
 "metadata": {
  "kernelspec": {
   "display_name": "Python 3",
   "language": "python",
   "name": "python3"
  },
  "language_info": {
   "codemirror_mode": {
    "name": "ipython",
    "version": 3
   },
   "file_extension": ".py",
   "mimetype": "text/x-python",
   "name": "python",
   "nbconvert_exporter": "python",
   "pygments_lexer": "ipython3",
   "version": "3.8.3"
  }
 },
 "nbformat": 4,
 "nbformat_minor": 4
}
