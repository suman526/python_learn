{
 "cells": [
  {
   "cell_type": "code",
   "execution_count": 4,
   "metadata": {},
   "outputs": [
    {
     "data": {
      "text/plain": [
       "78"
      ]
     },
     "execution_count": 4,
     "metadata": {},
     "output_type": "execute_result"
    }
   ],
   "source": [
    "class student:\n",
    "    def __init__(self,name,age):\n",
    "        self.name=name\n",
    "        self.age=age\n",
    "        \n",
    "class student1(student):\n",
    "    def __init__(self,name,age,marks):\n",
    "        self.name=name\n",
    "        self.age=age\n",
    "        self.marks=marks\n",
    "s=student1(\"suman\",22,78)\n",
    "s.marks"
   ]
  },
  {
   "cell_type": "code",
   "execution_count": 5,
   "metadata": {},
   "outputs": [
    {
     "data": {
      "text/plain": [
       "'r'"
      ]
     },
     "execution_count": 5,
     "metadata": {},
     "output_type": "execute_result"
    }
   ],
   "source": [
    "#here there is no use of parent class no inheritance\n",
    "class papa:\n",
    "    def __init__(self,color,height,behav):\n",
    "        self.color=color\n",
    "        self.height=height\n",
    "        self.behav=behav\n",
    "class beta:\n",
    "    def __init__(self,age):\n",
    "        self.age=age\n",
    "b=beta(22)\n",
    "b.age\n",
    "p=papa(\"r\",8,\"u\")\n",
    "p.color"
   ]
  },
  {
   "cell_type": "code",
   "execution_count": 8,
   "metadata": {},
   "outputs": [
    {
     "data": {
      "text/plain": [
       "'7'"
      ]
     },
     "execution_count": 8,
     "metadata": {},
     "output_type": "execute_result"
    }
   ],
   "source": [
    "#interitance is occuring:\n",
    "class papa:\n",
    "    def __init__(self,color,height,behav):\n",
    "        self.color=color\n",
    "        self.height=height\n",
    "        self.behav=behav\n",
    "class beta(papa):\n",
    "    def __init__(self,age,color,height,behav):\n",
    "        self.age=age\n",
    "        self.color=color\n",
    "        self.height=height\n",
    "        self.behav=behav\n",
    "b=beta(9,\"7\",\"g\",\"8\")\n",
    "b.age\n",
    "#p=papa(\"r\",8,\"u\")\n",
    "#p.color\n",
    "b.color"
   ]
  },
  {
   "cell_type": "code",
   "execution_count": 19,
   "metadata": {},
   "outputs": [
    {
     "name": "stdout",
     "output_type": "stream",
     "text": [
      "r\n"
     ]
    },
    {
     "data": {
      "text/plain": [
       "7"
      ]
     },
     "execution_count": 19,
     "metadata": {},
     "output_type": "execute_result"
    }
   ],
   "source": [
    "#to call constructor of papa class:\n",
    "class papa:\n",
    "    def __init__(self,color,height,behav):\n",
    "        self.color=color\n",
    "        self.height=height\n",
    "        self.behav=behav\n",
    "class beta(papa):\n",
    "    def __init__(self,color,height,behav,age):\n",
    "        #for optimization\n",
    "        papa.__init__(self,color,height,behav)\n",
    "        self.age=age\n",
    "        #self.color=color\n",
    "        #self.height=height\n",
    "        #self.behav=behav\n",
    "b=beta('r',9,'u',7)\n",
    "#b.age\n",
    "#p=papa(\"r\",8,\"u\")\n",
    "#p.color\n",
    "print(b.color)\n",
    "#overwrite \n",
    "b.age"
   ]
  },
  {
   "cell_type": "code",
   "execution_count": 41,
   "metadata": {},
   "outputs": [
    {
     "data": {
      "text/plain": [
       "240"
      ]
     },
     "execution_count": 41,
     "metadata": {},
     "output_type": "execute_result"
    }
   ],
   "source": [
    "#wap to make a class of vehicle and define its attributes like\n",
    "#milage,colour,engine,and try to find out the total milage,\n",
    "#of the perticular vehicle which covered almost 200km\n",
    "\n",
    "#to call constructor of papa class:\n",
    "class vehicle:\n",
    "    def __init__(self,speed,color,engine):\n",
    "        self.speed=speed\n",
    "        self.color=color\n",
    "        self.engine=engine\n",
    "    def dis(self,time):\n",
    "        self.time=time\n",
    "        distance=self.speed*self.time\n",
    "        return distance\n",
    "    #dis(3)\n",
    "d= vehicle(80,\"r\",\"turbo\")\n",
    "d.dis(3)"
   ]
  },
  {
   "cell_type": "code",
   "execution_count": null,
   "metadata": {},
   "outputs": [],
   "source": []
  }
 ],
 "metadata": {
  "kernelspec": {
   "display_name": "Python 3",
   "language": "python",
   "name": "python3"
  },
  "language_info": {
   "codemirror_mode": {
    "name": "ipython",
    "version": 3
   },
   "file_extension": ".py",
   "mimetype": "text/x-python",
   "name": "python",
   "nbconvert_exporter": "python",
   "pygments_lexer": "ipython3",
   "version": "3.8.3"
  }
 },
 "nbformat": 4,
 "nbformat_minor": 4
}
