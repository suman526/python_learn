{
 "cells": [
  {
   "cell_type": "code",
   "execution_count": 2,
   "metadata": {},
   "outputs": [
    {
     "name": "stdout",
     "output_type": "stream",
     "text": [
      "enter the string----->qwerty\n",
      "ytrewq\n"
     ]
    }
   ],
   "source": [
    "name=input(\"enter the string----->\")\n",
    "reverse=\"\"\n",
    "for i in name:\n",
    "    reverse= i+reverse\n",
    "print(reverse)\n",
    "    "
   ]
  },
  {
   "cell_type": "code",
   "execution_count": 15,
   "metadata": {},
   "outputs": [
    {
     "name": "stdout",
     "output_type": "stream",
     "text": [
      "Enter the number--->45\n",
      "not a prime number\n"
     ]
    }
   ],
   "source": [
    "num=int(input(\"Enter the number--->\"))\n",
    "if num>=10 and num<=50:\n",
    "    for i in range(2,num):\n",
    "        if (num%i)!=0:\n",
    "            print(\"not a prime number\")\n",
    "            break\n",
    "        else:\n",
    "            print(\"prime number\")"
   ]
  },
  {
   "cell_type": "code",
   "execution_count": 16,
   "metadata": {},
   "outputs": [
    {
     "name": "stdout",
     "output_type": "stream",
     "text": [
      "sum is---> 5050\n"
     ]
    }
   ],
   "source": [
    "add=0\n",
    "for i in range(1,101):\n",
    "    add= add+i\n",
    "print(\"sum is--->\",add)"
   ]
  },
  {
   "cell_type": "code",
   "execution_count": 25,
   "metadata": {},
   "outputs": [
    {
     "name": "stdout",
     "output_type": "stream",
     "text": [
      "Enter the length of list-->5\n",
      "Enter the number:10\n",
      "Enter the number:20\n",
      "Enter the number:30\n",
      "Enter the number:40\n",
      "Enter the number:50\n",
      "Your list is: [10, 20, 30, 40, 50]\n",
      "average of list is: 30.0\n"
     ]
    }
   ],
   "source": [
    "l=[]\n",
    "n=int(input(\"Enter the length of list-->\"))\n",
    "for i in range(1,n+1):\n",
    "    num=int(input(\"Enter the number:\"))\n",
    "    l.append(num)\n",
    "print(\"Your list is:\",l)\n",
    "a=0\n",
    "for i in l:\n",
    "    #print(i)\n",
    "    a=a+i\n",
    "    average=a/n\n",
    "print(\"average of list is:\",average)\n",
    "    "
   ]
  },
  {
   "cell_type": "code",
   "execution_count": 29,
   "metadata": {},
   "outputs": [
    {
     "name": "stdout",
     "output_type": "stream",
     "text": [
      "Enter the number:100\n",
      "Yeahhh.....number is divisible by 5\n"
     ]
    }
   ],
   "source": [
    "number=int(input(\"Enter the number:\"))\n",
    "if number%10==0 or number%10==5:\n",
    "    print(\"Yeahhh.....number is divisible by 5\")\n",
    "else:\n",
    "    print(\"Oopss.....not divisible by 5\")\n",
    "\n"
   ]
  },
  {
   "cell_type": "code",
   "execution_count": 2,
   "metadata": {},
   "outputs": [
    {
     "name": "stdout",
     "output_type": "stream",
     "text": [
      "Enter the number:121\n",
      "odd number sum= 1\n",
      "even number sum 2\n",
      "odd number sum= 2\n",
      "number is divisible by 11\n"
     ]
    }
   ],
   "source": [
    "number=input(\"Enter the number:\")\n",
    "n=len(number)\n",
    "sum_even=0\n",
    "sum_odd=0\n",
    "for i in range(0,n):\n",
    "    #print(i)\n",
    "    if i%2==0:\n",
    "        sum_odd=sum_odd+int(number[i])\n",
    "        print(\"odd number sum=\",sum_odd)\n",
    "    else:\n",
    "        sum_even=sum_even+int(number[i])\n",
    "        print(\"even number sum\",sum_even)\n",
    "if (sum_odd - sum_even)%11==0:\n",
    "    print(\"number is divisible by 11\")\n",
    "else:\n",
    "    print(\"number is not divisible by 11\")\n",
    "\n"
   ]
  },
  {
   "cell_type": "code",
   "execution_count": null,
   "metadata": {},
   "outputs": [],
   "source": []
  }
 ],
 "metadata": {
  "kernelspec": {
   "display_name": "Python 3",
   "language": "python",
   "name": "python3"
  },
  "language_info": {
   "codemirror_mode": {
    "name": "ipython",
    "version": 3
   },
   "file_extension": ".py",
   "mimetype": "text/x-python",
   "name": "python",
   "nbconvert_exporter": "python",
   "pygments_lexer": "ipython3",
   "version": "3.8.3"
  }
 },
 "nbformat": 4,
 "nbformat_minor": 4
}
