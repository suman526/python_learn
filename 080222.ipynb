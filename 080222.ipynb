{
 "cells": [
  {
   "cell_type": "code",
   "execution_count": 3,
   "metadata": {},
   "outputs": [
    {
     "ename": "TypeError",
     "evalue": "student() missing 2 required positional arguments: 'a' and 'b'",
     "output_type": "error",
     "traceback": [
      "\u001b[1;31m---------------------------------------------------------------------------\u001b[0m",
      "\u001b[1;31mTypeError\u001b[0m                                 Traceback (most recent call last)",
      "\u001b[1;32m<ipython-input-3-dbf17cab0078>\u001b[0m in \u001b[0;36m<module>\u001b[1;34m\u001b[0m\n\u001b[0;32m      3\u001b[0m     \u001b[0mr\u001b[0m\u001b[1;33m=\u001b[0m \u001b[0ma\u001b[0m\u001b[1;33m+\u001b[0m\u001b[0mb\u001b[0m\u001b[1;33m+\u001b[0m\u001b[0mc\u001b[0m\u001b[1;33m\u001b[0m\u001b[1;33m\u001b[0m\u001b[0m\n\u001b[0;32m      4\u001b[0m     \u001b[1;32mreturn\u001b[0m \u001b[0mr\u001b[0m\u001b[1;33m\u001b[0m\u001b[1;33m\u001b[0m\u001b[0m\n\u001b[1;32m----> 5\u001b[1;33m \u001b[0mstudent\u001b[0m\u001b[1;33m(\u001b[0m\u001b[1;33m)\u001b[0m\u001b[1;33m\u001b[0m\u001b[1;33m\u001b[0m\u001b[0m\n\u001b[0m",
      "\u001b[1;31mTypeError\u001b[0m: student() missing 2 required positional arguments: 'a' and 'b'"
     ]
    }
   ],
   "source": [
    "#default value\n",
    "def student(a,b,c=9):\n",
    "    r= a+b+c\n",
    "    return r\n",
    "student()\n"
   ]
  },
  {
   "cell_type": "code",
   "execution_count": 81,
   "metadata": {},
   "outputs": [
    {
     "name": "stdout",
     "output_type": "stream",
     "text": [
      "89\n",
      "Enter your 1 marks----> 89\n",
      "78\n",
      "Enter your 2 marks----> 78\n",
      "78\n",
      "Enter your 3 marks----> 78\n",
      "67\n",
      "Enter your 4 marks----> 67\n",
      "66\n",
      "Enter your 5 marks----> 66\n",
      "Marks is-------->  None\n"
     ]
    },
    {
     "ename": "TypeError",
     "evalue": "unsupported operand type(s) for +: 'int' and 'NoneType'",
     "output_type": "error",
     "traceback": [
      "\u001b[1;31m---------------------------------------------------------------------------\u001b[0m",
      "\u001b[1;31mTypeError\u001b[0m                                 Traceback (most recent call last)",
      "\u001b[1;32m<ipython-input-81-cd88d7163983>\u001b[0m in \u001b[0;36m<module>\u001b[1;34m\u001b[0m\n\u001b[0;32m     14\u001b[0m     \u001b[0mprint\u001b[0m\u001b[1;33m(\u001b[0m\u001b[1;34m\"Percentage is-------->\"\u001b[0m\u001b[1;33m,\u001b[0m\u001b[0mperc\u001b[0m\u001b[1;33m,\u001b[0m\u001b[1;34m\"%\"\u001b[0m\u001b[1;33m)\u001b[0m\u001b[1;33m\u001b[0m\u001b[1;33m\u001b[0m\u001b[0m\n\u001b[0;32m     15\u001b[0m \u001b[1;33m\u001b[0m\u001b[0m\n\u001b[1;32m---> 16\u001b[1;33m \u001b[0mpercentage\u001b[0m\u001b[1;33m(\u001b[0m\u001b[1;33m)\u001b[0m\u001b[1;33m\u001b[0m\u001b[1;33m\u001b[0m\u001b[0m\n\u001b[0m",
      "\u001b[1;32m<ipython-input-81-cd88d7163983>\u001b[0m in \u001b[0;36mpercentage\u001b[1;34m()\u001b[0m\n\u001b[0;32m     10\u001b[0m     \u001b[0madd\u001b[0m\u001b[1;33m=\u001b[0m\u001b[1;36m0\u001b[0m\u001b[1;33m\u001b[0m\u001b[1;33m\u001b[0m\u001b[0m\n\u001b[0;32m     11\u001b[0m     \u001b[1;32mfor\u001b[0m \u001b[0mi\u001b[0m \u001b[1;32min\u001b[0m \u001b[0mrange\u001b[0m\u001b[1;33m(\u001b[0m\u001b[0mlen\u001b[0m\u001b[1;33m(\u001b[0m\u001b[0mm\u001b[0m\u001b[1;33m)\u001b[0m\u001b[1;33m)\u001b[0m\u001b[1;33m:\u001b[0m\u001b[1;33m\u001b[0m\u001b[1;33m\u001b[0m\u001b[0m\n\u001b[1;32m---> 12\u001b[1;33m         \u001b[0madd\u001b[0m\u001b[1;33m=\u001b[0m \u001b[0madd\u001b[0m\u001b[1;33m+\u001b[0m \u001b[0mm\u001b[0m\u001b[1;33m[\u001b[0m\u001b[0mi\u001b[0m\u001b[1;33m]\u001b[0m\u001b[1;33m\u001b[0m\u001b[1;33m\u001b[0m\u001b[0m\n\u001b[0m\u001b[0;32m     13\u001b[0m         \u001b[0mperc\u001b[0m\u001b[1;33m=\u001b[0m \u001b[1;33m(\u001b[0m\u001b[0madd\u001b[0m\u001b[1;33m/\u001b[0m\u001b[1;36m500\u001b[0m\u001b[1;33m)\u001b[0m\u001b[1;33m*\u001b[0m\u001b[1;36m100\u001b[0m\u001b[1;33m\u001b[0m\u001b[1;33m\u001b[0m\u001b[0m\n\u001b[0;32m     14\u001b[0m     \u001b[0mprint\u001b[0m\u001b[1;33m(\u001b[0m\u001b[1;34m\"Percentage is-------->\"\u001b[0m\u001b[1;33m,\u001b[0m\u001b[0mperc\u001b[0m\u001b[1;33m,\u001b[0m\u001b[1;34m\"%\"\u001b[0m\u001b[1;33m)\u001b[0m\u001b[1;33m\u001b[0m\u001b[1;33m\u001b[0m\u001b[0m\n",
      "\u001b[1;31mTypeError\u001b[0m: unsupported operand type(s) for +: 'int' and 'NoneType'"
     ]
    }
   ],
   "source": [
    "# wap to calculate percentage of five students\n",
    "m=[]\n",
    "for i in range(1,6):\n",
    "    #u=int(input())\n",
    "    t=print(\"Enter your\", i ,\"marks---->\",int(input()))\n",
    "    m.append(t)\n",
    "print(\"Marks is--------> \",t)\n",
    "\n",
    "def percentage():\n",
    "    add=0\n",
    "    for i in range(len(m)):\n",
    "        add= add+ m[i]\n",
    "        perc= (add/500)*100\n",
    "    print(\"Percentage is-------->\",perc,\"%\")\n",
    "\n",
    "percentage()\n"
   ]
  },
  {
   "cell_type": "code",
   "execution_count": null,
   "metadata": {},
   "outputs": [],
   "source": [
    "#### def area(r,s):\n",
    "    area_circle= 3.14*r**2\n",
    "    perimeter=2*3.14*r\n",
    "    print(\"area: \",area_circle)\n",
    "    print(\"perimeter: \",perimeter)\n",
    "    area_sq=side*side\n",
    "    if area_circle==area_sq:\n",
    "        return True\n",
    "    else: \n",
    "        return False\n",
    "radius=int(input(\"enter the radius:  \"))\n",
    "side=int(input(\"enter the side:  \"))\n",
    "area(radius,side)"
   ]
  },
  {
   "cell_type": "code",
   "execution_count": 32,
   "metadata": {},
   "outputs": [
    {
     "name": "stdout",
     "output_type": "stream",
     "text": [
      "area:  600\n",
      "cost of remaining land 10000000\n"
     ]
    }
   ],
   "source": [
    "def area_land(l=20,b=30):\n",
    "    area= l*b\n",
    "    print(\"area: \",area)\n",
    "    if area>100:\n",
    "        cost_of_remaining_land=(area-100)*20000\n",
    "        print(\"cost of remaining land:\",cost_of_remaining_land)\n",
    "    else: \n",
    "        print(\"NA\")\n",
    "area_land()"
   ]
  },
  {
   "cell_type": "code",
   "execution_count": 31,
   "metadata": {},
   "outputs": [
    {
     "name": "stdout",
     "output_type": "stream",
     "text": [
      "total price 400\n",
      "average 80.0\n",
      "ave is low\n"
     ]
    }
   ],
   "source": [
    "def avg(cost_one_quantity=80):\n",
    "    total_price=80*5\n",
    "    print(\"total price\",total_price)\n",
    "    average_cost= total_price/5\n",
    "    print(\"average\",average_cost)\n",
    "    if average_cost>350:\n",
    "        print(\"Total price\",total_price)\n",
    "    else:\n",
    "        print(\"ave is low\")\n",
    "avg()\n"
   ]
  },
  {
   "cell_type": "code",
   "execution_count": null,
   "metadata": {},
   "outputs": [],
   "source": []
  }
 ],
 "metadata": {
  "kernelspec": {
   "display_name": "Python 3",
   "language": "python",
   "name": "python3"
  },
  "language_info": {
   "codemirror_mode": {
    "name": "ipython",
    "version": 3
   },
   "file_extension": ".py",
   "mimetype": "text/x-python",
   "name": "python",
   "nbconvert_exporter": "python",
   "pygments_lexer": "ipython3",
   "version": "3.8.3"
  }
 },
 "nbformat": 4,
 "nbformat_minor": 4
}
