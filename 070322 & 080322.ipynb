{
 "cells": [
  {
   "cell_type": "code",
   "execution_count": 1,
   "metadata": {},
   "outputs": [],
   "source": [
    "#1\n",
    "class eg:\n",
    "  def __init__(self,attr):\n",
    "    self.attr = attr"
   ]
  },
  {
   "cell_type": "code",
   "execution_count": 2,
   "metadata": {},
   "outputs": [],
   "source": [
    "class vehicle:\n",
    "    pass\n",
    "    "
   ]
  },
  {
   "cell_type": "code",
   "execution_count": 6,
   "metadata": {},
   "outputs": [
    {
     "name": "stdout",
     "output_type": "stream",
     "text": [
      "abc\n"
     ]
    }
   ],
   "source": [
    "class school1:\n",
    "    def student1(self,name):\n",
    "        self.name=name\n",
    "        print(self.name)\n",
    "class school2(school1):\n",
    "    def student2(self,age,cls):\n",
    "        self.age=age\n",
    "        self.cls=cls\n",
    "s=school2()\n",
    "s.student1(\"abc\")\n",
    "        \n",
    "        "
   ]
  },
  {
   "cell_type": "code",
   "execution_count": 13,
   "metadata": {},
   "outputs": [
    {
     "data": {
      "text/plain": [
       "'suman'"
      ]
     },
     "execution_count": 13,
     "metadata": {},
     "output_type": "execute_result"
    }
   ],
   "source": [
    "#4\n",
    "class g_parent:\n",
    "    def __init__(self,name_father,name_mother):\n",
    "        self.name_father=name_father\n",
    "        self.name_mother=name_mother\n",
    "class parent(g_parent):\n",
    "    def __init__(self,name_father,name_mother,name,age,salary):\n",
    "        super().__init__(name_father,name_mother)\n",
    "        self.name=name\n",
    "        self.age=age\n",
    "        self.salary=salary\n",
    "class child(parent):\n",
    "    def __init__(self,name_father,name_mother,name,age,salary,post):\n",
    "        super().__init__(name_father,name_mother,name,age,salary)\n",
    "        self.name=name\n",
    "        self.age=age\n",
    "        self.post=post\n",
    "a=child(\"father\",\"mother\",\"suman\",23,90000,\"sub\")\n",
    "a.name"
   ]
  },
  {
   "cell_type": "code",
   "execution_count": 14,
   "metadata": {},
   "outputs": [
    {
     "name": "stdout",
     "output_type": "stream",
     "text": [
      "Perimter of rectangel:  16\n",
      "Area of rectangel:  15\n"
     ]
    }
   ],
   "source": [
    "class Rectangle:\n",
    "   def __init__(self, length, breadth):\n",
    "      self.l = length\n",
    "      self.b = breadth\n",
    "   def perimeter(self):\n",
    "      return 2*(self.l + self.b)\n",
    "   def area(self):\n",
    "      return self.l * self.b\n",
    "\n",
    "class Circle:\n",
    "   def __init__(self, radius):\n",
    "      self.r = radius\n",
    "   def perimeter(self):\n",
    "      return 2 * pi * self.r\n",
    "   def area(self):\n",
    "      return pi * self.r ** 2\n",
    "\n",
    "rec = Rectangle(5,3)\n",
    "cr = Circle(4)\n",
    "print(\"Perimter of rectangel: \",rec.perimeter())\n",
    "print(\"Area of rectangel: \",rec.area())\n"
   ]
  },
  {
   "cell_type": "code",
   "execution_count": 17,
   "metadata": {},
   "outputs": [
    {
     "name": "stdout",
     "output_type": "stream",
     "text": [
      "enter the number-->7\n"
     ]
    },
    {
     "data": {
      "text/plain": [
       "49"
      ]
     },
     "execution_count": 17,
     "metadata": {},
     "output_type": "execute_result"
    }
   ],
   "source": [
    "## WITH THE HELP OF LAMBDA FUNCTION\n",
    "#1\n",
    "a=lambda a:a**2\n",
    "x=int(input(\"enter the number--> \"))\n",
    "a(x)"
   ]
  },
  {
   "cell_type": "code",
   "execution_count": 18,
   "metadata": {},
   "outputs": [
    {
     "name": "stdout",
     "output_type": "stream",
     "text": [
      "enter 1st number--> 78\n",
      "enter 2nd number--> 67\n"
     ]
    },
    {
     "data": {
      "text/plain": [
       "78"
      ]
     },
     "execution_count": 18,
     "metadata": {},
     "output_type": "execute_result"
    }
   ],
   "source": [
    "a=lambda a,b:max(a,b)\n",
    "x=int(input(\"enter 1st number--> \"))\n",
    "y=int(input(\"enter 2nd number--> \"))\n",
    "a(x,y)"
   ]
  },
  {
   "cell_type": "code",
   "execution_count": 22,
   "metadata": {},
   "outputs": [
    {
     "name": "stdout",
     "output_type": "stream",
     "text": [
      "enter 1st number--> 90\n",
      "enter 2nd number--> 89\n"
     ]
    },
    {
     "data": {
      "text/plain": [
       "89"
      ]
     },
     "execution_count": 22,
     "metadata": {},
     "output_type": "execute_result"
    }
   ],
   "source": [
    "g=lambda a,b:min(a,b)\n",
    "x=int(input(\"enter 1st number--> \"))\n",
    "y=int(input(\"enter 2nd number--> \"))\n",
    "g(x,y)"
   ]
  },
  {
   "cell_type": "code",
   "execution_count": 21,
   "metadata": {},
   "outputs": [
    {
     "data": {
      "text/plain": [
       "12.8"
      ]
     },
     "execution_count": 21,
     "metadata": {},
     "output_type": "execute_result"
    }
   ],
   "source": [
    "u=lambda a,b,c,d,e,f:a+b*c+d/e-f\n",
    "u(12,2,3,4,5,6)"
   ]
  },
  {
   "cell_type": "code",
   "execution_count": 23,
   "metadata": {},
   "outputs": [
    {
     "name": "stdout",
     "output_type": "stream",
     "text": [
      "enter 1st number--> 89\n",
      "enter 2nd number--> 67\n"
     ]
    },
    {
     "data": {
      "text/plain": [
       "89"
      ]
     },
     "execution_count": 23,
     "metadata": {},
     "output_type": "execute_result"
    }
   ],
   "source": [
    "g=lambda a,b:a if a>b else b\n",
    "x=int(input(\"enter 1st number--> \"))\n",
    "y=int(input(\"enter 2nd number--> \"))\n",
    "g(x,y)"
   ]
  },
  {
   "cell_type": "code",
   "execution_count": 29,
   "metadata": {},
   "outputs": [
    {
     "data": {
      "text/plain": [
       "35"
      ]
     },
     "execution_count": 29,
     "metadata": {},
     "output_type": "execute_result"
    }
   ],
   "source": [
    "g=lambda a,b:a**3+b**3\n",
    "g(2,3)"
   ]
  },
  {
   "cell_type": "code",
   "execution_count": 1,
   "metadata": {},
   "outputs": [
    {
     "name": "stdout",
     "output_type": "stream",
     "text": [
      "[<function <lambda> at 0x0000029F39CB4310>, [3, 4]]\n"
     ]
    }
   ],
   "source": [
    "l = [3, 4]\n",
    "  \n",
    "res = list((lambda x: x ** 3, l))\n",
    "print(res)"
   ]
  },
  {
   "cell_type": "markdown",
   "metadata": {},
   "source": [
    "# FILTER FUNCTION"
   ]
  },
  {
   "cell_type": "code",
   "execution_count": 6,
   "metadata": {},
   "outputs": [
    {
     "name": "stdout",
     "output_type": "stream",
     "text": [
      "[89, 67, 90, 99, 88, 78, 67]\n"
     ]
    }
   ],
   "source": [
    "a= [20,89,67,56,90,99,56,45,88,78,67,55]\n",
    "l=[]\n",
    "for i in a:\n",
    "    if i>60:\n",
    "        l.append(i)\n",
    "print(l)\n",
    "        "
   ]
  },
  {
   "cell_type": "code",
   "execution_count": 7,
   "metadata": {},
   "outputs": [
    {
     "name": "stdout",
     "output_type": "stream",
     "text": [
      "[89, 67, 90, 99, 88, 78, 67]\n"
     ]
    }
   ],
   "source": [
    "def func(a):\n",
    "    l=[]\n",
    "    for i in a:\n",
    "        if i>60:\n",
    "            l.append(i)\n",
    "    print(l)\n",
    "a= [20,89,67,56,90,99,56,45,88,78,67,55]\n",
    "func(a)\n",
    "    "
   ]
  },
  {
   "cell_type": "code",
   "execution_count": 23,
   "metadata": {},
   "outputs": [
    {
     "name": "stdout",
     "output_type": "stream",
     "text": [
      "[89, 67, 90, 99, 88, 78, 67]\n"
     ]
    }
   ],
   "source": [
    "def func(a):\n",
    "    #for i in range(0,a):\n",
    "        if a>60:\n",
    "            return True\n",
    "        else:\n",
    "            return False\n",
    "a= [20,89,67,56,90,99,56,45,88,78,67,55]\n",
    "x=list(filter(func,a))\n",
    "print(x)  "
   ]
  },
  {
   "cell_type": "code",
   "execution_count": 35,
   "metadata": {},
   "outputs": [
    {
     "name": "stdout",
     "output_type": "stream",
     "text": [
      "[{'name': 'abc', 'age': '45', 'marks': '67'}]\n"
     ]
    }
   ],
   "source": [
    "a = [ {\"name\": \"abc\", \"age\": \"45\", \"marks\": \"67\"},\n",
    "      {\"name\": \"def\", \"age\": \"34\", \"marks\": \"34\"},]\n",
    "def s(a, search):\n",
    "    def func(x):\n",
    "        for v in x.values():\n",
    "            if search in v:\n",
    "                return True\n",
    "        return False\n",
    "    return filter(func, a)\n",
    "f = s(a, \"45\")\n",
    "print(list(f))      \n",
    "\n"
   ]
  },
  {
   "cell_type": "code",
   "execution_count": 26,
   "metadata": {},
   "outputs": [
    {
     "name": "stdout",
     "output_type": "stream",
     "text": [
      "[89, 67, 90, 99, 88, 78, 67]\n"
     ]
    }
   ],
   "source": [
    "x= lambda a: True if a>60 else False\n",
    "print(list(filter(x,a)))"
   ]
  },
  {
   "cell_type": "code",
   "execution_count": 39,
   "metadata": {},
   "outputs": [
    {
     "data": {
      "text/plain": [
       "[89, 67, 90, 99, 88, 78, 67]"
      ]
     },
     "execution_count": 39,
     "metadata": {},
     "output_type": "execute_result"
    }
   ],
   "source": [
    "a= [20,89,67,56,90,99,56,45,88,78,67,55]\n",
    "c=list(filter(lambda a:True if a>60 else False, a))\n",
    "c"
   ]
  },
  {
   "cell_type": "markdown",
   "metadata": {},
   "source": [
    "# MAP"
   ]
  },
  {
   "cell_type": "code",
   "execution_count": 41,
   "metadata": {},
   "outputs": [
    {
     "data": {
      "text/plain": [
       "[7921, 4489, 8100, 9801, 7744, 6084, 4489]"
      ]
     },
     "execution_count": 41,
     "metadata": {},
     "output_type": "execute_result"
    }
   ],
   "source": [
    "z=list(map(lambda a:a**2,c))\n",
    "z"
   ]
  },
  {
   "cell_type": "code",
   "execution_count": 43,
   "metadata": {},
   "outputs": [
    {
     "name": "stdout",
     "output_type": "stream",
     "text": [
      "[33, 36, 39, 42, 45, 48, 51, 54, 57, 60]\n"
     ]
    }
   ],
   "source": [
    "data= [11,12,13,14,15,16,17,18,19,20]\n",
    "print(list(map(lambda v:3*v,data)))"
   ]
  },
  {
   "cell_type": "code",
   "execution_count": 46,
   "metadata": {},
   "outputs": [
    {
     "name": "stdout",
     "output_type": "stream",
     "text": [
      "[18, 21, 24, 27, 30]\n"
     ]
    }
   ],
   "source": [
    "#2 --->\n",
    "data1= [1,2,3,4,5]\n",
    "data2= [6,7,8,9,10]\n",
    "data3= [11,12,13,14,15]\n",
    "print(list(map(lambda d1,d2,d3:d1+d2+d3,data1,data2,data3)))"
   ]
  },
  {
   "cell_type": "code",
   "execution_count": 47,
   "metadata": {},
   "outputs": [
    {
     "name": "stdout",
     "output_type": "stream",
     "text": [
      "[121, 144, 169, 196, 225, 256, 289, 324, 361, 400]\n"
     ]
    }
   ],
   "source": [
    "data= [11,12,13,14,15,16,17,18,19,20]\n",
    "print(list(map(lambda v:v**2,data)))"
   ]
  },
  {
   "cell_type": "code",
   "execution_count": 61,
   "metadata": {},
   "outputs": [
    {
     "name": "stdout",
     "output_type": "stream",
     "text": [
      "Highest Salaries--> [8900, 7000, 9900]\n",
      "\n",
      "Doubling the salary [17800, 14000, 19800]\n"
     ]
    }
   ],
   "source": [
    "#1--->\n",
    "salary= [2000,8900,5700,5600,7000,9900]\n",
    "def sal(salary):\n",
    "    highest_salary=list(filter(lambda a:True if a>6000 else False,salary))\n",
    "    print(\"Highest Salaries-->\",highest_salary)\n",
    "    double=list(map(lambda v:v*2,highest_salary))\n",
    "    print(\"\\nDoubling the salary\",double)\n",
    "sal(salary)"
   ]
  },
  {
   "cell_type": "code",
   "execution_count": 67,
   "metadata": {},
   "outputs": [
    {
     "name": "stdout",
     "output_type": "stream",
     "text": [
      "[22, 11]\n"
     ]
    }
   ],
   "source": [
    "marks_list= [56,45,22,89,11]\n",
    "fail= list(filter(lambda a:True if a<33 else False,marks_list))\n",
    "print(fail)\n"
   ]
  },
  {
   "cell_type": "code",
   "execution_count": null,
   "metadata": {},
   "outputs": [],
   "source": []
  },
  {
   "cell_type": "code",
   "execution_count": null,
   "metadata": {},
   "outputs": [],
   "source": []
  }
 ],
 "metadata": {
  "kernelspec": {
   "display_name": "Python 3",
   "language": "python",
   "name": "python3"
  },
  "language_info": {
   "codemirror_mode": {
    "name": "ipython",
    "version": 3
   },
   "file_extension": ".py",
   "mimetype": "text/x-python",
   "name": "python",
   "nbconvert_exporter": "python",
   "pygments_lexer": "ipython3",
   "version": "3.8.3"
  }
 },
 "nbformat": 4,
 "nbformat_minor": 4
}
