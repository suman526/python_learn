{
 "cells": [
  {
   "cell_type": "markdown",
   "metadata": {},
   "source": [
    "4. Write a program to accept the cost price of a bike \n",
    "and display the road tax \n",
    "to be paid according to the following criteria :\n",
    "    \n",
    "        Cost price (in Rs)                  Tax\n",
    "        > 100000                            15 %\n",
    "        > 50000 and <= 100000               10%\n",
    "        <= 50000                            5%"
   ]
  },
  {
   "cell_type": "code",
   "execution_count": 3,
   "metadata": {},
   "outputs": [
    {
     "name": "stdout",
     "output_type": "stream",
     "text": [
      "Enter the cost bike of the bike:40000\n",
      "tax is 5%\n"
     ]
    }
   ],
   "source": [
    "i= int(input(\"Enter the cost bike of the bike:\"))\n",
    "if i>100000:\n",
    "    print(\"tax is 15%\")\n",
    "elif i>50000 and i<=100000:\n",
    "    print(\"tax is 10%\")\n",
    "elif i<=50000:\n",
    "    print(\"tax is 5%\")\n",
    "else:\n",
    "    print(\"NA\")\n",
    "    "
   ]
  },
  {
   "cell_type": "markdown",
   "metadata": {},
   "source": [
    "Accept any city from the user and display monument of that city.\n",
    "                  City                            Monument\n",
    "                  Delhi                               Red Fort\n",
    "                  Agra                                Taj Mahal\n",
    "                  Jaipur                              Jal Mahal"
   ]
  },
  {
   "cell_type": "code",
   "execution_count": 12,
   "metadata": {},
   "outputs": [
    {
     "name": "stdout",
     "output_type": "stream",
     "text": [
      "1.delhi\n",
      "2.agra\n",
      "3.jaipur\n",
      "Enter the city:delhi\n",
      "Monument is: RED FORT\n"
     ]
    }
   ],
   "source": [
    "print(\"1.delhi\\n2.agra\\n3.jaipur\")\n",
    "i= input(\"Enter the city: \")\n",
    "if i=='Delhi'or i=='DELHI' or i=='delhi':\n",
    "    print(\"Monument is: RED FORT\")\n",
    "elif i=='Agra'or i=='AGRA' or i=='agra':\n",
    "    print(\"Monument is: TAJ MAHAL\")\n",
    "elif i=='Jaipur'or i=='JAIPUR' or i=='jaipur':\n",
    "    print(\"Monument is: JAL MAHAL\")\n",
    "else:\n",
    "    print(\"CITY NOT IN OUR LIST\")\n",
    "    "
   ]
  },
  {
   "cell_type": "code",
   "execution_count": 8,
   "metadata": {},
   "outputs": [
    {
     "name": "stdout",
     "output_type": "stream",
     "text": [
      "Hello\n"
     ]
    }
   ],
   "source": [
    "#Write the output of the following if a = 9\n",
    "a=9       \n",
    "if (a > 5 and a <=10):    \n",
    "    print(\"Hello\")    \n",
    "else:    \n",
    "    print(\"Bye\")"
   ]
  },
  {
   "cell_type": "markdown",
   "metadata": {},
   "source": [
    "Write a program to check whether a number (accepted from user) is positive or negative."
   ]
  },
  {
   "cell_type": "code",
   "execution_count": 15,
   "metadata": {},
   "outputs": [
    {
     "name": "stdout",
     "output_type": "stream",
     "text": [
      "enter the number: 89\n",
      "na\n"
     ]
    }
   ],
   "source": [
    "a=int(input(\"enter the number: \"))\n",
    "if a%2==0 and a%3==0:  \n",
    "    print(\"divisible by 2 and 3 \")\n",
    "elif a%2==0:  \n",
    "    print(\"divisible by 2\")\n",
    "elif a%3==0:  \n",
    "    print(\"divisible by 3 \")\n",
    "else:    \n",
    "    print(\"na\")"
   ]
  },
  {
   "cell_type": "markdown",
   "metadata": {},
   "source": [
    "Accept the marked price from the user and  \n",
    "calculate the Net amount as(Marked Price – Discount)\n",
    "to pay according to following criteria:\n",
    "\n",
    "Marked Price-------Discount\n",
    ">10000----------20%\n",
    "\n",
    ">7000 and <=10000-------15%\n",
    "\n",
    "<=7000----------10%"
   ]
  },
  {
   "cell_type": "code",
   "execution_count": 16,
   "metadata": {},
   "outputs": [
    {
     "name": "stdout",
     "output_type": "stream",
     "text": [
      "enter the marked price: 7000\n",
      "Net Amount = 6300.0\n"
     ]
    }
   ],
   "source": [
    "marked_price=int(input(\"enter the marked price: \"))\n",
    "if marked_price>10000:\n",
    "    dis=(20/100)*marked_price\n",
    "    NetAmount= marked_price-dis\n",
    "    print(\"Net Amount =\", NetAmount)\n",
    "elif marked_price>7000 and marked_price<=10000:\n",
    "    dis=(15/100)*marked_price\n",
    "    NetAmount= marked_price-dis\n",
    "    print(\"Net Amount =\", NetAmount)\n",
    "elif marked_price<=7000:\n",
    "    dis=(10/100)*marked_price\n",
    "    NetAmount= marked_price-dis\n",
    "    print(\"Net Amount =\", NetAmount)\n",
    "else:    \n",
    "    print(\"NA\")"
   ]
  },
  {
   "cell_type": "code",
   "execution_count": 21,
   "metadata": {
    "scrolled": true
   },
   "outputs": [
    {
     "name": "stdout",
     "output_type": "stream",
     "text": [
      "Enter any string: Suman\n",
      "First character: S\n",
      "cannot watch coco\n"
     ]
    }
   ],
   "source": [
    "name = input('Enter your name: ')\n",
    "f = \"\"\n",
    "for i in range(0, 1):\n",
    "    f = f + name[i]\n",
    "print('First character:', f)\n",
    "if f=='a' or f=='A':\n",
    "    print(\"coco\")\n",
    "else:\n",
    "    print(\"cannot watch coco\")"
   ]
  },
  {
   "cell_type": "markdown",
   "metadata": {},
   "source": [
    " Write a program to display the last digit of a number.\n",
    "    "
   ]
  },
  {
   "cell_type": "code",
   "execution_count": 33,
   "metadata": {},
   "outputs": [
    {
     "name": "stdout",
     "output_type": "stream",
     "text": [
      "Enter the digit: 7876\n",
      "76\n",
      "8\n"
     ]
    }
   ],
   "source": [
    "num = int(input('Enter the digit: '))\n",
    "last=num%10\n",
    "last1=(num%1000-num%100)//100\n",
    "print(last)\n",
    "print(last1)"
   ]
  },
  {
   "cell_type": "markdown",
   "metadata": {},
   "source": [
    "## questions for hw"
   ]
  },
  {
   "cell_type": "code",
   "execution_count": 8,
   "metadata": {},
   "outputs": [
    {
     "name": "stdout",
     "output_type": "stream",
     "text": [
      "Enter three digit number: 789\n",
      "7\n"
     ]
    }
   ],
   "source": [
    "# 1.\n",
    "num = int(input('Enter three digit number: '))\n",
    "last=(num-num%100)//100\n",
    "print(last)"
   ]
  },
  {
   "cell_type": "code",
   "execution_count": null,
   "metadata": {},
   "outputs": [],
   "source": [
    "num = int(input('Enter the digit: '))\n",
    "for i in range(2,num):\n",
    "    if (num%i)==0:\n",
    "        print(\"not a prime number\")\n",
    "        break\n",
    "        \n",
    "else: \n",
    "        print(\"prime number\")"
   ]
  },
  {
   "cell_type": "code",
   "execution_count": null,
   "metadata": {},
   "outputs": [],
   "source": []
  },
  {
   "cell_type": "code",
   "execution_count": null,
   "metadata": {},
   "outputs": [],
   "source": []
  }
 ],
 "metadata": {
  "kernelspec": {
   "display_name": "Python 3",
   "language": "python",
   "name": "python3"
  },
  "language_info": {
   "codemirror_mode": {
    "name": "ipython",
    "version": 3
   },
   "file_extension": ".py",
   "mimetype": "text/x-python",
   "name": "python",
   "nbconvert_exporter": "python",
   "pygments_lexer": "ipython3",
   "version": "3.8.3"
  }
 },
 "nbformat": 4,
 "nbformat_minor": 4
}
