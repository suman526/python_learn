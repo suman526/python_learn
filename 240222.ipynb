{
 "cells": [
  {
   "cell_type": "code",
   "execution_count": 7,
   "metadata": {},
   "outputs": [
    {
     "name": "stdout",
     "output_type": "stream",
     "text": [
      "Enter the no. of holidays ==>0\n",
      "2400000\n"
     ]
    },
    {
     "data": {
      "text/plain": [
       "2568000.0"
      ]
     },
     "execution_count": 7,
     "metadata": {},
     "output_type": "execute_result"
    }
   ],
   "source": [
    "class emp1:\n",
    "    def __init__(self,name,age,salary):\n",
    "        self.name=name\n",
    "        self.age=age\n",
    "        self.salary=salary\n",
    "class emp2(emp1):\n",
    "    def __init__(self,name,age,salary,empid,bloodgrp):\n",
    "        super().__init__(name,age,salary)\n",
    "        #emp1.__init__(self,name,age,salary)\n",
    "        self.empid=empid\n",
    "        self.bloodgrp=bloodgrp\n",
    "    \n",
    "    def total_sal(self,monthly_sal,holiday):\n",
    "        total_salary=monthly_sal*12\n",
    "        print(total_salary)\n",
    "        if holiday>12:\n",
    "            deduction=(total_salary*5)/100\n",
    "            deduction_sal_received=total_salary-deduction\n",
    "            return deduction_sal_received\n",
    "        elif holiday==0:\n",
    "            bonus=(total_salary*7)/100\n",
    "            print(\"bonus is=>\",bonus)\n",
    "            bonus_salary=total_salary+bonus\n",
    "            return bonus_salary\n",
    "        #for almost condition\n",
    "        elif holiday<=6:\n",
    "            deduction=(total_salary*2)/100\n",
    "            deduction_sal_received=total_salary-deduction\n",
    "            return deduction_sal_received\n",
    "        \n",
    "        \n",
    "e=emp2('suman',5,1,101,34)\n",
    "holiday=int(input(\"Enter the no. of holidays ==>\"))\n",
    "e.total_sal(200000,holiday)"
   ]
  },
  {
   "cell_type": "code",
   "execution_count": 8,
   "metadata": {},
   "outputs": [],
   "source": [
    "#wap to make a class and inherit \n",
    "#the property of transport class\n",
    "#like color,milage and speed also a child class \n",
    "#which is having no unique property to display\n",
    "\n",
    "#wap to make a class of having no properties, attributes,\n",
    "#or method (empty class) just try to make an object \n",
    "#of the empty class and try to get the object of the code\n",
    "\n",
    "#wap and try to get the attributes of the particular \n",
    "#class through the object"
   ]
  },
  {
   "cell_type": "code",
   "execution_count": 9,
   "metadata": {},
   "outputs": [
    {
     "data": {
      "text/plain": [
       "80"
      ]
     },
     "execution_count": 9,
     "metadata": {},
     "output_type": "execute_result"
    }
   ],
   "source": [
    "#1\n",
    "class vehicle:\n",
    "    def __init__(self,speed,color,milage):\n",
    "        self.speed=speed\n",
    "        self.color=color\n",
    "        self.milage=milage\n",
    "    def vehicle_child(vehicle):\n",
    "        vehicle.__init__(self,speed,color,milage)\n",
    "        \n",
    "d= vehicle(80,\"red\",\"turbo\")\n",
    "d.speed"
   ]
  },
  {
   "cell_type": "code",
   "execution_count": 10,
   "metadata": {},
   "outputs": [
    {
     "data": {
      "text/plain": [
       "80"
      ]
     },
     "execution_count": 10,
     "metadata": {},
     "output_type": "execute_result"
    }
   ],
   "source": [
    "class vehicle:\n",
    "    def __init__(self,speed,color,milage):\n",
    "        self.speed=speed\n",
    "        self.color=color\n",
    "        self.milage=milage\n",
    "    def vehicle_child(vehicle):\n",
    "        pass;\n",
    "    #nothing present in the class\n",
    "        \n",
    "d= vehicle(80,\"red\",\"turbo\")\n",
    "d.speed"
   ]
  },
  {
   "cell_type": "code",
   "execution_count": 13,
   "metadata": {},
   "outputs": [
    {
     "name": "stdout",
     "output_type": "stream",
     "text": [
      "<__main__.empty object at 0x00000192A0798070>\n"
     ]
    }
   ],
   "source": [
    "class empty:\n",
    "    def __init__(self):\n",
    "        pass;\n",
    "e=empty()\n",
    "print(e)"
   ]
  },
  {
   "cell_type": "code",
   "execution_count": 15,
   "metadata": {},
   "outputs": [
    {
     "name": "stdout",
     "output_type": "stream",
     "text": [
      "80\n",
      "red\n",
      "turbo\n"
     ]
    }
   ],
   "source": [
    "class vehicle:\n",
    "    def __init__(self,speed,color,milage):\n",
    "        self.speed=speed\n",
    "        self.color=color\n",
    "        self.milage=milage\n",
    "d= vehicle(80,\"red\",\"turbo\")\n",
    "print(d.speed)\n",
    "print(d.color)\n",
    "print(d.milage)\n"
   ]
  },
  {
   "cell_type": "code",
   "execution_count": 22,
   "metadata": {},
   "outputs": [
    {
     "data": {
      "text/plain": [
       "'suman yadav'"
      ]
     },
     "execution_count": 22,
     "metadata": {},
     "output_type": "execute_result"
    }
   ],
   "source": [
    "class add:\n",
    "    def con(self):\n",
    "        a=\"suman\"\n",
    "        b=\" yadav\"\n",
    "        c=a+b\n",
    "        return c\n",
    "a= add()\n",
    "a.con()"
   ]
  },
  {
   "cell_type": "code",
   "execution_count": null,
   "metadata": {},
   "outputs": [],
   "source": []
  }
 ],
 "metadata": {
  "kernelspec": {
   "display_name": "Python 3",
   "language": "python",
   "name": "python3"
  },
  "language_info": {
   "codemirror_mode": {
    "name": "ipython",
    "version": 3
   },
   "file_extension": ".py",
   "mimetype": "text/x-python",
   "name": "python",
   "nbconvert_exporter": "python",
   "pygments_lexer": "ipython3",
   "version": "3.8.3"
  }
 },
 "nbformat": 4,
 "nbformat_minor": 4
}
