{
 "cells": [
  {
   "cell_type": "code",
   "execution_count": 3,
   "metadata": {},
   "outputs": [
    {
     "name": "stdout",
     "output_type": "stream",
     "text": [
      "Enter the length:6\n",
      "Enter the width:6\n",
      "It is a square\n"
     ]
    }
   ],
   "source": [
    "l= int(input(\"Enter the length:\"))\n",
    "b= int(input(\"Enter the width:\"))\n",
    "if l==b:\n",
    "    print(\"It is a square\")\n",
    "else:\n",
    "    print(\"not a square \")"
   ]
  },
  {
   "cell_type": "code",
   "execution_count": 5,
   "metadata": {},
   "outputs": [
    {
     "name": "stdout",
     "output_type": "stream",
     "text": [
      "Enter 1st number:5\n",
      "Enter 2nd number:3\n",
      "greater number is 5\n"
     ]
    }
   ],
   "source": [
    "a= int(input(\"Enter 1st number:\"))\n",
    "b= int(input(\"Enter 2nd number:\"))\n",
    "if a>b:\n",
    "    print(\"greater number is\",a)\n",
    "else:\n",
    "    print(\"greater number is\",b)"
   ]
  },
  {
   "cell_type": "code",
   "execution_count": 19,
   "metadata": {},
   "outputs": [
    {
     "name": "stdout",
     "output_type": "stream",
     "text": [
      "Enter the marks: 6\n",
      "Grade is F\n"
     ]
    }
   ],
   "source": [
    "marks= int(input(\"Enter the marks: \"))\n",
    "if marks>80:\n",
    "    print(\"Grade is A\")\n",
    "elif marks>60 and marks<=80:\n",
    "    print(\"Grade is B\")\n",
    "elif marks>50 and marks<=60:\n",
    "    print(\"Grade is C\")\n",
    "elif marks>45 and marks<=50:\n",
    "    print(\"Grade is D\")\n",
    "elif marks>25 and marks<=45:\n",
    "    print(\"Grade is E\")\n",
    "elif marks<25:\n",
    "    print(\"Grade is F\")\n",
    "else:\n",
    "    print(\"NA\")"
   ]
  },
  {
   "cell_type": "code",
   "execution_count": 27,
   "metadata": {
    "scrolled": true
   },
   "outputs": [
    {
     "name": "stdout",
     "output_type": "stream",
     "text": [
      "Do you have medical issue Y/N: Y\n",
      "allowed to sit in exam\n"
     ]
    }
   ],
   "source": [
    "m= input(\"Do you have medical issue Y/N: \")\n",
    "if m!='Y':\n",
    "    print(\"Oops......not allowed to sit in exam\")\n",
    "else:\n",
    "    print(\"allowed to sit in exam\")"
   ]
  },
  {
   "cell_type": "code",
   "execution_count": 30,
   "metadata": {},
   "outputs": [
    {
     "name": "stdout",
     "output_type": "stream",
     "text": [
      "enter no. of classes held: 67\n",
      "enter no. of classes attended: 67\n",
      "percentage 100.0 %\n",
      "Do you have medical issue Y/N: N\n",
      "allowed to sit in exam\n"
     ]
    }
   ],
   "source": [
    "p1= int(input(\"enter no. of classes held: \"))\n",
    "p2= int(input(\"enter no. of classes attended: \"))\n",
    "per= (p2/p1)*100\n",
    "print(\"percentage\",per,\"%\")\n",
    "m= input(\"Do you have medical issue Y/N: \")\n",
    "if m=='Y':\n",
    "    print(\"allowed to sit in exam\")\n",
    "else:\n",
    "    if per<75:\n",
    "        print(\"Oops......not allowed to sit in exam\")\n",
    "    else:\n",
    "        print(\"allowed to sit in exam\")"
   ]
  },
  {
   "cell_type": "code",
   "execution_count": null,
   "metadata": {},
   "outputs": [],
   "source": []
  }
 ],
 "metadata": {
  "kernelspec": {
   "display_name": "Python 3",
   "language": "python",
   "name": "python3"
  },
  "language_info": {
   "codemirror_mode": {
    "name": "ipython",
    "version": 3
   },
   "file_extension": ".py",
   "mimetype": "text/x-python",
   "name": "python",
   "nbconvert_exporter": "python",
   "pygments_lexer": "ipython3",
   "version": "3.8.3"
  }
 },
 "nbformat": 4,
 "nbformat_minor": 4
}
