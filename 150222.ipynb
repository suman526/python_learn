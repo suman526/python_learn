{
 "cells": [
  {
   "cell_type": "code",
   "execution_count": 1,
   "metadata": {},
   "outputs": [],
   "source": [
    "#empty class\n",
    "class student:\n",
    "    pass\n",
    "x=student()"
   ]
  },
  {
   "cell_type": "code",
   "execution_count": 2,
   "metadata": {},
   "outputs": [
    {
     "name": "stdout",
     "output_type": "stream",
     "text": [
      "annual salary of employee is 240000\n"
     ]
    }
   ],
   "source": [
    "class employee:\n",
    "    def salary(self,monthly_salary):\n",
    "        salary_of_year=monthly_salary*12\n",
    "        print(\"annual salary of employee is\",salary_of_year)\n",
    "e=employee()\n",
    "e.salary(20000)\n",
    "\n",
    "        "
   ]
  },
  {
   "cell_type": "code",
   "execution_count": 11,
   "metadata": {},
   "outputs": [
    {
     "name": "stdout",
     "output_type": "stream",
     "text": [
      "basic price of car is 2000000\n",
      "tax on car is--> 400000.0\n",
      "road on price is increased by 340000.0\n",
      "So the total cost of car will be 2740000.0\n"
     ]
    }
   ],
   "source": [
    "class car_cost:\n",
    "    def cost(self,basic_price):\n",
    "        print(\"basic price of car is\",basic_price)\n",
    "        tax=(20/100)*2000000\n",
    "        print(\"tax on car is-->\",tax)\n",
    "        road_price=(17/100)*2000000\n",
    "        print(\"road on price is increased by\",road_price)\n",
    "        total_cost=basic_price+tax+road_price\n",
    "        print(\"So the total cost of car will be\",total_cost)\n",
    "c=car_cost()\n",
    "c.cost(2000000)"
   ]
  },
  {
   "cell_type": "code",
   "execution_count": 22,
   "metadata": {},
   "outputs": [
    {
     "name": "stdout",
     "output_type": "stream",
     "text": [
      "\n",
      "enter first number-->78\n",
      "\n",
      "enter second number-->5\n",
      "\n",
      "addition of a and b is---> 83\n",
      "subtraction of a and b is---> 73\n",
      "multiplication of a and b is---> 390\n",
      "division of a and b is---> 15.6\n",
      "modulus of a and b is---> 3\n"
     ]
    }
   ],
   "source": [
    "class simplify:\n",
    "    def operators(self,a,b):\n",
    "        s=a+b\n",
    "        print(\"\\naddition of a and b is--->\",s)\n",
    "        t=a-b\n",
    "        print(\"subtraction of a and b is--->\",t)\n",
    "        u=a*b\n",
    "        print(\"multiplication of a and b is--->\",u)\n",
    "        v=a/b\n",
    "        print(\"division of a and b is--->\",v)\n",
    "        w=a%b\n",
    "        print(\"modulus of a and b is--->\",w)\n",
    "a=int(input(\"\\nenter first number-->\"))\n",
    "b=int(input(\"\\nenter second number-->\"))\n",
    "s=simplify()\n",
    "s.operators(a,b)\n",
    "        "
   ]
  },
  {
   "cell_type": "code",
   "execution_count": null,
   "metadata": {},
   "outputs": [],
   "source": []
  }
 ],
 "metadata": {
  "kernelspec": {
   "display_name": "Python 3",
   "language": "python",
   "name": "python3"
  },
  "language_info": {
   "codemirror_mode": {
    "name": "ipython",
    "version": 3
   },
   "file_extension": ".py",
   "mimetype": "text/x-python",
   "name": "python",
   "nbconvert_exporter": "python",
   "pygments_lexer": "ipython3",
   "version": "3.8.3"
  }
 },
 "nbformat": 4,
 "nbformat_minor": 4
}
